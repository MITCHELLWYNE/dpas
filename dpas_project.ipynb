{
 "cells": [
  {
   "cell_type": "code",
   "execution_count": 1,
   "id": "db381c4c",
   "metadata": {},
   "outputs": [],
   "source": [
    "import pandas as pd\n",
    "\n"
   ]
  },
  {
   "cell_type": "code",
   "execution_count": 2,
   "id": "41c736b0",
   "metadata": {},
   "outputs": [
    {
     "data": {
      "text/html": [
       "<div>\n",
       "<style scoped>\n",
       "    .dataframe tbody tr th:only-of-type {\n",
       "        vertical-align: middle;\n",
       "    }\n",
       "\n",
       "    .dataframe tbody tr th {\n",
       "        vertical-align: top;\n",
       "    }\n",
       "\n",
       "    .dataframe thead th {\n",
       "        text-align: right;\n",
       "    }\n",
       "</style>\n",
       "<table border=\"1\" class=\"dataframe\">\n",
       "  <thead>\n",
       "    <tr style=\"text-align: right;\">\n",
       "      <th></th>\n",
       "      <th>date</th>\n",
       "      <th>Changed Qty</th>\n",
       "      <th>Reason Desc</th>\n",
       "      <th>Stock Nbr</th>\n",
       "      <th>Item Desc</th>\n",
       "    </tr>\n",
       "  </thead>\n",
       "  <tbody>\n",
       "    <tr>\n",
       "      <th>0</th>\n",
       "      <td>2023-10-19</td>\n",
       "      <td>-1</td>\n",
       "      <td>Issue Nbr: 29II2023292000017</td>\n",
       "      <td>8470016751193</td>\n",
       "      <td>PLATE CARRIER, GEN III, MED</td>\n",
       "    </tr>\n",
       "    <tr>\n",
       "      <th>1</th>\n",
       "      <td>2023-10-19</td>\n",
       "      <td>-1</td>\n",
       "      <td>Issue Nbr: 29II2023292000017</td>\n",
       "      <td>8415015549623</td>\n",
       "      <td>CAP, COYOTE, MICRO FLEECE S-M</td>\n",
       "    </tr>\n",
       "    <tr>\n",
       "      <th>2</th>\n",
       "      <td>2023-10-19</td>\n",
       "      <td>-1</td>\n",
       "      <td>Issue Nbr: 29II2023292000017</td>\n",
       "      <td>8415016239601</td>\n",
       "      <td>GLOVES,MENS AND WOMENS SZ 2</td>\n",
       "    </tr>\n",
       "    <tr>\n",
       "      <th>3</th>\n",
       "      <td>2023-10-19</td>\n",
       "      <td>-1</td>\n",
       "      <td>Issue Nbr: 29II2023292000017</td>\n",
       "      <td>6515015768861</td>\n",
       "      <td>PLUG,EAR, MED</td>\n",
       "    </tr>\n",
       "    <tr>\n",
       "      <th>4</th>\n",
       "      <td>2023-10-19</td>\n",
       "      <td>-1</td>\n",
       "      <td>Issue Nbr: 29II2023292000017</td>\n",
       "      <td>8465016007956</td>\n",
       "      <td>PACK, USMC, BLADDER HYDRATION</td>\n",
       "    </tr>\n",
       "  </tbody>\n",
       "</table>\n",
       "</div>"
      ],
      "text/plain": [
       "        date  Changed Qty                   Reason Desc      Stock Nbr  \\\n",
       "0 2023-10-19           -1  Issue Nbr: 29II2023292000017  8470016751193   \n",
       "1 2023-10-19           -1  Issue Nbr: 29II2023292000017  8415015549623   \n",
       "2 2023-10-19           -1  Issue Nbr: 29II2023292000017  8415016239601   \n",
       "3 2023-10-19           -1  Issue Nbr: 29II2023292000017  6515015768861   \n",
       "4 2023-10-19           -1  Issue Nbr: 29II2023292000017  8465016007956   \n",
       "\n",
       "                       Item Desc  \n",
       "0    PLATE CARRIER, GEN III, MED  \n",
       "1  CAP, COYOTE, MICRO FLEECE S-M  \n",
       "2    GLOVES,MENS AND WOMENS SZ 2  \n",
       "3                  PLUG,EAR, MED  \n",
       "4  PACK, USMC, BLADDER HYDRATION  "
      ]
     },
     "execution_count": 2,
     "metadata": {},
     "output_type": "execute_result"
    }
   ],
   "source": [
    "# Read Excel file into a DataFrame\n",
    "excel_file = \"dpas project.xlsm\"\n",
    "df = pd.read_excel(excel_file)\n",
    "df.head()"
   ]
  },
  {
   "cell_type": "code",
   "execution_count": 3,
   "id": "7f9b7e8d",
   "metadata": {},
   "outputs": [
    {
     "data": {
      "text/html": [
       "<div>\n",
       "<style scoped>\n",
       "    .dataframe tbody tr th:only-of-type {\n",
       "        vertical-align: middle;\n",
       "    }\n",
       "\n",
       "    .dataframe tbody tr th {\n",
       "        vertical-align: top;\n",
       "    }\n",
       "\n",
       "    .dataframe thead th {\n",
       "        text-align: right;\n",
       "    }\n",
       "</style>\n",
       "<table border=\"1\" class=\"dataframe\">\n",
       "  <thead>\n",
       "    <tr style=\"text-align: right;\">\n",
       "      <th></th>\n",
       "      <th>date</th>\n",
       "      <th>Changed Qty</th>\n",
       "      <th>Reason Desc</th>\n",
       "      <th>Stock Nbr</th>\n",
       "      <th>Item Desc</th>\n",
       "      <th>day_of_the_week</th>\n",
       "    </tr>\n",
       "  </thead>\n",
       "  <tbody>\n",
       "    <tr>\n",
       "      <th>0</th>\n",
       "      <td>2023-10-19</td>\n",
       "      <td>-1</td>\n",
       "      <td>Issue Nbr: 29II2023292000017</td>\n",
       "      <td>8470016751193</td>\n",
       "      <td>PLATE CARRIER, GEN III, MED</td>\n",
       "      <td>Thursday</td>\n",
       "    </tr>\n",
       "    <tr>\n",
       "      <th>1</th>\n",
       "      <td>2023-10-19</td>\n",
       "      <td>-1</td>\n",
       "      <td>Issue Nbr: 29II2023292000017</td>\n",
       "      <td>8415015549623</td>\n",
       "      <td>CAP, COYOTE, MICRO FLEECE S-M</td>\n",
       "      <td>Thursday</td>\n",
       "    </tr>\n",
       "    <tr>\n",
       "      <th>2</th>\n",
       "      <td>2023-10-19</td>\n",
       "      <td>-1</td>\n",
       "      <td>Issue Nbr: 29II2023292000017</td>\n",
       "      <td>8415016239601</td>\n",
       "      <td>GLOVES,MENS AND WOMENS SZ 2</td>\n",
       "      <td>Thursday</td>\n",
       "    </tr>\n",
       "    <tr>\n",
       "      <th>3</th>\n",
       "      <td>2023-10-19</td>\n",
       "      <td>-1</td>\n",
       "      <td>Issue Nbr: 29II2023292000017</td>\n",
       "      <td>6515015768861</td>\n",
       "      <td>PLUG,EAR, MED</td>\n",
       "      <td>Thursday</td>\n",
       "    </tr>\n",
       "    <tr>\n",
       "      <th>4</th>\n",
       "      <td>2023-10-19</td>\n",
       "      <td>-1</td>\n",
       "      <td>Issue Nbr: 29II2023292000017</td>\n",
       "      <td>8465016007956</td>\n",
       "      <td>PACK, USMC, BLADDER HYDRATION</td>\n",
       "      <td>Thursday</td>\n",
       "    </tr>\n",
       "  </tbody>\n",
       "</table>\n",
       "</div>"
      ],
      "text/plain": [
       "        date  Changed Qty                   Reason Desc      Stock Nbr  \\\n",
       "0 2023-10-19           -1  Issue Nbr: 29II2023292000017  8470016751193   \n",
       "1 2023-10-19           -1  Issue Nbr: 29II2023292000017  8415015549623   \n",
       "2 2023-10-19           -1  Issue Nbr: 29II2023292000017  8415016239601   \n",
       "3 2023-10-19           -1  Issue Nbr: 29II2023292000017  6515015768861   \n",
       "4 2023-10-19           -1  Issue Nbr: 29II2023292000017  8465016007956   \n",
       "\n",
       "                       Item Desc day_of_the_week  \n",
       "0    PLATE CARRIER, GEN III, MED        Thursday  \n",
       "1  CAP, COYOTE, MICRO FLEECE S-M        Thursday  \n",
       "2    GLOVES,MENS AND WOMENS SZ 2        Thursday  \n",
       "3                  PLUG,EAR, MED        Thursday  \n",
       "4  PACK, USMC, BLADDER HYDRATION        Thursday  "
      ]
     },
     "execution_count": 3,
     "metadata": {},
     "output_type": "execute_result"
    }
   ],
   "source": [
    "df['day_of_the_week']= df['date'].dt.day_name()\n",
    "df.head()"
   ]
  },
  {
   "cell_type": "code",
   "execution_count": 4,
   "id": "d41207b1",
   "metadata": {},
   "outputs": [],
   "source": [
    "df.to_excel('fixed data.xlsx', index=False)"
   ]
  },
  {
   "cell_type": "code",
   "execution_count": 5,
   "id": "1309a806",
   "metadata": {},
   "outputs": [
    {
     "data": {
      "text/html": [
       "<div>\n",
       "<style scoped>\n",
       "    .dataframe tbody tr th:only-of-type {\n",
       "        vertical-align: middle;\n",
       "    }\n",
       "\n",
       "    .dataframe tbody tr th {\n",
       "        vertical-align: top;\n",
       "    }\n",
       "\n",
       "    .dataframe thead th {\n",
       "        text-align: right;\n",
       "    }\n",
       "</style>\n",
       "<table border=\"1\" class=\"dataframe\">\n",
       "  <thead>\n",
       "    <tr style=\"text-align: right;\">\n",
       "      <th></th>\n",
       "      <th>date</th>\n",
       "      <th>Reason Desc</th>\n",
       "      <th>count</th>\n",
       "    </tr>\n",
       "  </thead>\n",
       "  <tbody>\n",
       "    <tr>\n",
       "      <th>0</th>\n",
       "      <td>2023-01-03</td>\n",
       "      <td>Issue Nbr: 29II2020003000002</td>\n",
       "      <td>23</td>\n",
       "    </tr>\n",
       "    <tr>\n",
       "      <th>1</th>\n",
       "      <td>2023-01-03</td>\n",
       "      <td>Issue Nbr: 29II2020003000003</td>\n",
       "      <td>55</td>\n",
       "    </tr>\n",
       "    <tr>\n",
       "      <th>2</th>\n",
       "      <td>2023-01-03</td>\n",
       "      <td>Issue Nbr: 29II2020003000004</td>\n",
       "      <td>2</td>\n",
       "    </tr>\n",
       "    <tr>\n",
       "      <th>3</th>\n",
       "      <td>2023-01-03</td>\n",
       "      <td>Issue Nbr: 29II2020003000005</td>\n",
       "      <td>54</td>\n",
       "    </tr>\n",
       "    <tr>\n",
       "      <th>4</th>\n",
       "      <td>2023-01-03</td>\n",
       "      <td>Issue Nbr: 29II2022003000001</td>\n",
       "      <td>2</td>\n",
       "    </tr>\n",
       "  </tbody>\n",
       "</table>\n",
       "</div>"
      ],
      "text/plain": [
       "        date                   Reason Desc  count\n",
       "0 2023-01-03  Issue Nbr: 29II2020003000002     23\n",
       "1 2023-01-03  Issue Nbr: 29II2020003000003     55\n",
       "2 2023-01-03  Issue Nbr: 29II2020003000004      2\n",
       "3 2023-01-03  Issue Nbr: 29II2020003000005     54\n",
       "4 2023-01-03  Issue Nbr: 29II2022003000001      2"
      ]
     },
     "execution_count": 5,
     "metadata": {},
     "output_type": "execute_result"
    }
   ],
   "source": [
    "reason_desc_count = df.groupby(['date', 'Reason Desc']).size().reset_index(name='count')\n",
    "reason_desc_count.head()"
   ]
  },
  {
   "cell_type": "code",
   "execution_count": 6,
   "id": "4d8812a3",
   "metadata": {},
   "outputs": [
    {
     "name": "stdout",
     "output_type": "stream",
     "text": [
      "Average Items Per Transaction: 20.49367325546571\n"
     ]
    }
   ],
   "source": [
    "ave_reason_desc_count= reason_desc_count['count'].mean()\n",
    "print(f\"Average Items Per Transaction: {ave_reason_desc_count}\")"
   ]
  },
  {
   "cell_type": "code",
   "execution_count": 7,
   "id": "c09e0a35",
   "metadata": {},
   "outputs": [
    {
     "data": {
      "text/html": [
       "<div>\n",
       "<style scoped>\n",
       "    .dataframe tbody tr th:only-of-type {\n",
       "        vertical-align: middle;\n",
       "    }\n",
       "\n",
       "    .dataframe tbody tr th {\n",
       "        vertical-align: top;\n",
       "    }\n",
       "\n",
       "    .dataframe thead th {\n",
       "        text-align: right;\n",
       "    }\n",
       "</style>\n",
       "<table border=\"1\" class=\"dataframe\">\n",
       "  <thead>\n",
       "    <tr style=\"text-align: right;\">\n",
       "      <th></th>\n",
       "      <th>date</th>\n",
       "      <th>unique_reason_count</th>\n",
       "    </tr>\n",
       "  </thead>\n",
       "  <tbody>\n",
       "    <tr>\n",
       "      <th>0</th>\n",
       "      <td>2023-01-03</td>\n",
       "      <td>6</td>\n",
       "    </tr>\n",
       "    <tr>\n",
       "      <th>1</th>\n",
       "      <td>2023-01-04</td>\n",
       "      <td>53</td>\n",
       "    </tr>\n",
       "    <tr>\n",
       "      <th>2</th>\n",
       "      <td>2023-01-05</td>\n",
       "      <td>185</td>\n",
       "    </tr>\n",
       "    <tr>\n",
       "      <th>3</th>\n",
       "      <td>2023-01-06</td>\n",
       "      <td>149</td>\n",
       "    </tr>\n",
       "    <tr>\n",
       "      <th>4</th>\n",
       "      <td>2023-01-07</td>\n",
       "      <td>106</td>\n",
       "    </tr>\n",
       "  </tbody>\n",
       "</table>\n",
       "</div>"
      ],
      "text/plain": [
       "        date  unique_reason_count\n",
       "0 2023-01-03                    6\n",
       "1 2023-01-04                   53\n",
       "2 2023-01-05                  185\n",
       "3 2023-01-06                  149\n",
       "4 2023-01-07                  106"
      ]
     },
     "execution_count": 7,
     "metadata": {},
     "output_type": "execute_result"
    }
   ],
   "source": [
    "reason_count_per_day =df.groupby('date')['Reason Desc'].nunique().reset_index(name = 'unique_reason_count')\n",
    "reason_count_per_day.head()"
   ]
  },
  {
   "cell_type": "code",
   "execution_count": 8,
   "id": "8497ce09",
   "metadata": {},
   "outputs": [],
   "source": [
    "reason_count_per_day.to_excel('reason_count_per_day.xlsx', index = False)\n"
   ]
  },
  {
   "cell_type": "code",
   "execution_count": 9,
   "id": "9f11312d",
   "metadata": {},
   "outputs": [
    {
     "name": "stdout",
     "output_type": "stream",
     "text": [
      "Average Reason Count Per Day: 75.671388101983\n"
     ]
    }
   ],
   "source": [
    "average_unique_reason_count= reason_count_per_day['unique_reason_count'].mean()\n",
    "print(f\"Average Reason Count Per Day: {average_unique_reason_count}\")"
   ]
  },
  {
   "cell_type": "code",
   "execution_count": 10,
   "id": "637054e9",
   "metadata": {},
   "outputs": [
    {
     "data": {
      "text/html": [
       "<div>\n",
       "<style scoped>\n",
       "    .dataframe tbody tr th:only-of-type {\n",
       "        vertical-align: middle;\n",
       "    }\n",
       "\n",
       "    .dataframe tbody tr th {\n",
       "        vertical-align: top;\n",
       "    }\n",
       "\n",
       "    .dataframe thead th {\n",
       "        text-align: right;\n",
       "    }\n",
       "</style>\n",
       "<table border=\"1\" class=\"dataframe\">\n",
       "  <thead>\n",
       "    <tr style=\"text-align: right;\">\n",
       "      <th></th>\n",
       "      <th>day_of_the_week</th>\n",
       "      <th>count</th>\n",
       "    </tr>\n",
       "  </thead>\n",
       "  <tbody>\n",
       "    <tr>\n",
       "      <th>0</th>\n",
       "      <td>Thursday</td>\n",
       "      <td>120172</td>\n",
       "    </tr>\n",
       "    <tr>\n",
       "      <th>1</th>\n",
       "      <td>Friday</td>\n",
       "      <td>105906</td>\n",
       "    </tr>\n",
       "    <tr>\n",
       "      <th>2</th>\n",
       "      <td>Wednesday</td>\n",
       "      <td>86188</td>\n",
       "    </tr>\n",
       "    <tr>\n",
       "      <th>3</th>\n",
       "      <td>Saturday</td>\n",
       "      <td>73613</td>\n",
       "    </tr>\n",
       "    <tr>\n",
       "      <th>4</th>\n",
       "      <td>Tuesday</td>\n",
       "      <td>60000</td>\n",
       "    </tr>\n",
       "  </tbody>\n",
       "</table>\n",
       "</div>"
      ],
      "text/plain": [
       "  day_of_the_week   count\n",
       "0        Thursday  120172\n",
       "1          Friday  105906\n",
       "2       Wednesday   86188\n",
       "3        Saturday   73613\n",
       "4         Tuesday   60000"
      ]
     },
     "execution_count": 10,
     "metadata": {},
     "output_type": "execute_result"
    }
   ],
   "source": [
    "day_of_week_count = df['day_of_the_week'].value_counts().reset_index(name = 'count')\n",
    "day_of_week_count.columns = ['day_of_the_week', 'count']\n",
    "day_of_week_count.head()"
   ]
  },
  {
   "cell_type": "code",
   "execution_count": null,
   "id": "957ed3fe",
   "metadata": {},
   "outputs": [],
   "source": []
  },
  {
   "cell_type": "code",
   "execution_count": null,
   "id": "7d8f7b29",
   "metadata": {},
   "outputs": [],
   "source": []
  },
  {
   "cell_type": "code",
   "execution_count": null,
   "id": "e70b812e",
   "metadata": {},
   "outputs": [],
   "source": []
  }
 ],
 "metadata": {
  "kernelspec": {
   "display_name": "PythonData",
   "language": "python",
   "name": "pythondata"
  },
  "language_info": {
   "codemirror_mode": {
    "name": "ipython",
    "version": 3
   },
   "file_extension": ".py",
   "mimetype": "text/x-python",
   "name": "python",
   "nbconvert_exporter": "python",
   "pygments_lexer": "ipython3",
   "version": "3.7.7"
  }
 },
 "nbformat": 4,
 "nbformat_minor": 5
}
