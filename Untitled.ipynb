{
 "cells": [
  {
   "cell_type": "code",
   "execution_count": 1,
   "id": "d51a870c",
   "metadata": {},
   "outputs": [],
   "source": [
    "import pandas as pd\n",
    "\n"
   ]
  },
  {
   "cell_type": "code",
   "execution_count": 2,
   "id": "35cc41ee",
   "metadata": {},
   "outputs": [
    {
     "data": {
      "text/html": [
       "<div>\n",
       "<style scoped>\n",
       "    .dataframe tbody tr th:only-of-type {\n",
       "        vertical-align: middle;\n",
       "    }\n",
       "\n",
       "    .dataframe tbody tr th {\n",
       "        vertical-align: top;\n",
       "    }\n",
       "\n",
       "    .dataframe thead th {\n",
       "        text-align: right;\n",
       "    }\n",
       "</style>\n",
       "<table border=\"1\" class=\"dataframe\">\n",
       "  <thead>\n",
       "    <tr style=\"text-align: right;\">\n",
       "      <th></th>\n",
       "      <th>date</th>\n",
       "      <th>Changed Qty</th>\n",
       "      <th>Reason Desc</th>\n",
       "      <th>Stock Nbr</th>\n",
       "      <th>Item Desc</th>\n",
       "    </tr>\n",
       "  </thead>\n",
       "  <tbody>\n",
       "    <tr>\n",
       "      <th>0</th>\n",
       "      <td>2023-10-19</td>\n",
       "      <td>-1</td>\n",
       "      <td>Issue Nbr: 29II2023292000017</td>\n",
       "      <td>8470016751193</td>\n",
       "      <td>PLATE CARRIER, GEN III, MED</td>\n",
       "    </tr>\n",
       "    <tr>\n",
       "      <th>1</th>\n",
       "      <td>2023-10-19</td>\n",
       "      <td>-1</td>\n",
       "      <td>Issue Nbr: 29II2023292000017</td>\n",
       "      <td>8415015549623</td>\n",
       "      <td>CAP, COYOTE, MICRO FLEECE S-M</td>\n",
       "    </tr>\n",
       "    <tr>\n",
       "      <th>2</th>\n",
       "      <td>2023-10-19</td>\n",
       "      <td>-1</td>\n",
       "      <td>Issue Nbr: 29II2023292000017</td>\n",
       "      <td>8415016239601</td>\n",
       "      <td>GLOVES,MENS AND WOMENS SZ 2</td>\n",
       "    </tr>\n",
       "    <tr>\n",
       "      <th>3</th>\n",
       "      <td>2023-10-19</td>\n",
       "      <td>-1</td>\n",
       "      <td>Issue Nbr: 29II2023292000017</td>\n",
       "      <td>6515015768861</td>\n",
       "      <td>PLUG,EAR, MED</td>\n",
       "    </tr>\n",
       "    <tr>\n",
       "      <th>4</th>\n",
       "      <td>2023-10-19</td>\n",
       "      <td>-1</td>\n",
       "      <td>Issue Nbr: 29II2023292000017</td>\n",
       "      <td>8465016007956</td>\n",
       "      <td>PACK, USMC, BLADDER HYDRATION</td>\n",
       "    </tr>\n",
       "  </tbody>\n",
       "</table>\n",
       "</div>"
      ],
      "text/plain": [
       "        date  Changed Qty                   Reason Desc      Stock Nbr  \\\n",
       "0 2023-10-19           -1  Issue Nbr: 29II2023292000017  8470016751193   \n",
       "1 2023-10-19           -1  Issue Nbr: 29II2023292000017  8415015549623   \n",
       "2 2023-10-19           -1  Issue Nbr: 29II2023292000017  8415016239601   \n",
       "3 2023-10-19           -1  Issue Nbr: 29II2023292000017  6515015768861   \n",
       "4 2023-10-19           -1  Issue Nbr: 29II2023292000017  8465016007956   \n",
       "\n",
       "                       Item Desc  \n",
       "0    PLATE CARRIER, GEN III, MED  \n",
       "1  CAP, COYOTE, MICRO FLEECE S-M  \n",
       "2    GLOVES,MENS AND WOMENS SZ 2  \n",
       "3                  PLUG,EAR, MED  \n",
       "4  PACK, USMC, BLADDER HYDRATION  "
      ]
     },
     "execution_count": 2,
     "metadata": {},
     "output_type": "execute_result"
    }
   ],
   "source": [
    "# Read Excel file into a DataFrame\n",
    "excel_file = \"dpas project.xlsm\"\n",
    "df = pd.read_excel(excel_file)\n",
    "df.head()"
   ]
  },
  {
   "cell_type": "code",
   "execution_count": 3,
   "id": "1d5552ab",
   "metadata": {},
   "outputs": [
    {
     "data": {
      "text/html": [
       "<div>\n",
       "<style scoped>\n",
       "    .dataframe tbody tr th:only-of-type {\n",
       "        vertical-align: middle;\n",
       "    }\n",
       "\n",
       "    .dataframe tbody tr th {\n",
       "        vertical-align: top;\n",
       "    }\n",
       "\n",
       "    .dataframe thead th {\n",
       "        text-align: right;\n",
       "    }\n",
       "</style>\n",
       "<table border=\"1\" class=\"dataframe\">\n",
       "  <thead>\n",
       "    <tr style=\"text-align: right;\">\n",
       "      <th></th>\n",
       "      <th>date</th>\n",
       "      <th>Changed Qty</th>\n",
       "      <th>Reason Desc</th>\n",
       "      <th>Stock Nbr</th>\n",
       "      <th>Item Desc</th>\n",
       "      <th>day_of_the_week</th>\n",
       "    </tr>\n",
       "  </thead>\n",
       "  <tbody>\n",
       "    <tr>\n",
       "      <th>0</th>\n",
       "      <td>2023-10-19</td>\n",
       "      <td>-1</td>\n",
       "      <td>Issue Nbr: 29II2023292000017</td>\n",
       "      <td>8470016751193</td>\n",
       "      <td>PLATE CARRIER, GEN III, MED</td>\n",
       "      <td>Thursday</td>\n",
       "    </tr>\n",
       "    <tr>\n",
       "      <th>1</th>\n",
       "      <td>2023-10-19</td>\n",
       "      <td>-1</td>\n",
       "      <td>Issue Nbr: 29II2023292000017</td>\n",
       "      <td>8415015549623</td>\n",
       "      <td>CAP, COYOTE, MICRO FLEECE S-M</td>\n",
       "      <td>Thursday</td>\n",
       "    </tr>\n",
       "    <tr>\n",
       "      <th>2</th>\n",
       "      <td>2023-10-19</td>\n",
       "      <td>-1</td>\n",
       "      <td>Issue Nbr: 29II2023292000017</td>\n",
       "      <td>8415016239601</td>\n",
       "      <td>GLOVES,MENS AND WOMENS SZ 2</td>\n",
       "      <td>Thursday</td>\n",
       "    </tr>\n",
       "    <tr>\n",
       "      <th>3</th>\n",
       "      <td>2023-10-19</td>\n",
       "      <td>-1</td>\n",
       "      <td>Issue Nbr: 29II2023292000017</td>\n",
       "      <td>6515015768861</td>\n",
       "      <td>PLUG,EAR, MED</td>\n",
       "      <td>Thursday</td>\n",
       "    </tr>\n",
       "    <tr>\n",
       "      <th>4</th>\n",
       "      <td>2023-10-19</td>\n",
       "      <td>-1</td>\n",
       "      <td>Issue Nbr: 29II2023292000017</td>\n",
       "      <td>8465016007956</td>\n",
       "      <td>PACK, USMC, BLADDER HYDRATION</td>\n",
       "      <td>Thursday</td>\n",
       "    </tr>\n",
       "  </tbody>\n",
       "</table>\n",
       "</div>"
      ],
      "text/plain": [
       "        date  Changed Qty                   Reason Desc      Stock Nbr  \\\n",
       "0 2023-10-19           -1  Issue Nbr: 29II2023292000017  8470016751193   \n",
       "1 2023-10-19           -1  Issue Nbr: 29II2023292000017  8415015549623   \n",
       "2 2023-10-19           -1  Issue Nbr: 29II2023292000017  8415016239601   \n",
       "3 2023-10-19           -1  Issue Nbr: 29II2023292000017  6515015768861   \n",
       "4 2023-10-19           -1  Issue Nbr: 29II2023292000017  8465016007956   \n",
       "\n",
       "                       Item Desc day_of_the_week  \n",
       "0    PLATE CARRIER, GEN III, MED        Thursday  \n",
       "1  CAP, COYOTE, MICRO FLEECE S-M        Thursday  \n",
       "2    GLOVES,MENS AND WOMENS SZ 2        Thursday  \n",
       "3                  PLUG,EAR, MED        Thursday  \n",
       "4  PACK, USMC, BLADDER HYDRATION        Thursday  "
      ]
     },
     "execution_count": 3,
     "metadata": {},
     "output_type": "execute_result"
    }
   ],
   "source": [
    "df['day_of_the_week']= df['date'].dt.day_name()\n",
    "df.head()"
   ]
  },
  {
   "cell_type": "code",
   "execution_count": null,
   "id": "3e11b9d5",
   "metadata": {},
   "outputs": [],
   "source": [
    "df.to_excel('fixed data.xlsx', index=False)"
   ]
  },
  {
   "cell_type": "code",
   "execution_count": null,
   "id": "e3de26b8",
   "metadata": {},
   "outputs": [],
   "source": [
    "reason_desc_count = df.groupby(['date', 'Reason Desc']).size().reset_index(name='count')\n",
    "reason_desc_count.head()"
   ]
  },
  {
   "cell_type": "code",
   "execution_count": null,
   "id": "2559c416",
   "metadata": {},
   "outputs": [],
   "source": [
    "ave_reason_desc_count= reason_desc_count['count'].mean()\n",
    "print(f\"Average Items Per Transaction: {ave_reason_desc_count}\")"
   ]
  },
  {
   "cell_type": "code",
   "execution_count": null,
   "id": "75abdf23",
   "metadata": {},
   "outputs": [],
   "source": [
    "reason_count_per_day =df.groupby('date')['Reason Desc'].nunique().reset_index(name = 'unique_reason_count')\n",
    "reason_count_per_day.head()"
   ]
  },
  {
   "cell_type": "code",
   "execution_count": null,
   "id": "ca440f93",
   "metadata": {},
   "outputs": [],
   "source": [
    "reason_count_per_day.to_excel('reason_count_per_day.xlsx', index = False)\n"
   ]
  },
  {
   "cell_type": "code",
   "execution_count": null,
   "id": "c1d465cf",
   "metadata": {},
   "outputs": [],
   "source": [
    "average_unique_reason_count= reason_count_per_day['unique_reason_count'].mean()\n",
    "print(f\"Average Reason Count Per Day: {average_unique_reason_count}\")"
   ]
  },
  {
   "cell_type": "code",
   "execution_count": null,
   "id": "884c9516",
   "metadata": {},
   "outputs": [],
   "source": [
    "day_of_week_count = df['day_of_the_week'].value_counts().reset_index(name = 'count')\n",
    "day_of_week_count.columns = ['day_of_the_week', 'count']\n",
    "day_of_week_count.head()"
   ]
  },
  {
   "cell_type": "code",
   "execution_count": null,
   "id": "5000a105",
   "metadata": {},
   "outputs": [],
   "source": []
  },
  {
   "cell_type": "code",
   "execution_count": null,
   "id": "69693894",
   "metadata": {},
   "outputs": [],
   "source": []
  },
  {
   "cell_type": "code",
   "execution_count": null,
   "id": "6fd94e9b",
   "metadata": {},
   "outputs": [],
   "source": []
  }
 ],
 "metadata": {
  "kernelspec": {
   "display_name": "PythonData",
   "language": "python",
   "name": "pythondata"
  },
  "language_info": {
   "codemirror_mode": {
    "name": "ipython",
    "version": 3
   },
   "file_extension": ".py",
   "mimetype": "text/x-python",
   "name": "python",
   "nbconvert_exporter": "python",
   "pygments_lexer": "ipython3",
   "version": "3.7.7"
  }
 },
 "nbformat": 4,
 "nbformat_minor": 5
}
